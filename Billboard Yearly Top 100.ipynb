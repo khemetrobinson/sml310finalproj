{
 "cells": [
  {
   "cell_type": "code",
   "execution_count": 27,
   "metadata": {},
   "outputs": [],
   "source": [
    "import requests\n",
    "from bs4 import BeautifulSoup"
   ]
  },
  {
   "cell_type": "code",
   "execution_count": 28,
   "metadata": {},
   "outputs": [],
   "source": [
    "# return list of dicts each containing title, artist, chart rank for a song\n",
    "def get_hot_100(year):\n",
    "    url = 'https://en.wikipedia.org/wiki/Billboard_Year-End_Hot_100_singles_of_' + str(year)\n",
    "    r = requests.get(url)\n",
    "    bs = BeautifulSoup(r.text, 'lxml')\n",
    "    rows = bs.find('table').find_all('tr')\n",
    "    songs = []\n",
    "    for row in rows[1:]:\n",
    "        cols = row.find_all(['td', 'th'])\n",
    "        cols = [t.text.strip().strip('\"') for t in cols]\n",
    "        song = {}\n",
    "        try:\n",
    "            song['RANK'] = cols[0]\n",
    "        except:\n",
    "            song['RANK'] = None\n",
    "        \n",
    "        try:\n",
    "            song['TITLE'] = cols[1]\n",
    "        except:\n",
    "            song['TITLE'] = None\n",
    "        \n",
    "        try:\n",
    "            song['ARTIST'] = cols[2]\n",
    "        except:\n",
    "            song['ARTIST'] = None\n",
    "        \n",
    "        song['YEAR'] = year\n",
    "        songs.append(song)\n",
    "    return (songs)"
   ]
  },
  {
   "cell_type": "code",
   "execution_count": 29,
   "metadata": {},
   "outputs": [],
   "source": [
    "songs_1959_2020 = []\n",
    "for year in range(1959, 2021):\n",
    "    songs_1959_2020.extend(get_hot_100(year))"
   ]
  },
  {
   "cell_type": "code",
   "execution_count": 30,
   "metadata": {},
   "outputs": [],
   "source": [
    "import pandas as pd"
   ]
  },
  {
   "cell_type": "code",
   "execution_count": 31,
   "metadata": {},
   "outputs": [],
   "source": [
    "df = pd.DataFrame(songs_1959_2020)"
   ]
  },
  {
   "cell_type": "code",
   "execution_count": 32,
   "metadata": {},
   "outputs": [
    {
     "data": {
      "text/html": [
       "<div>\n",
       "<style scoped>\n",
       "    .dataframe tbody tr th:only-of-type {\n",
       "        vertical-align: middle;\n",
       "    }\n",
       "\n",
       "    .dataframe tbody tr th {\n",
       "        vertical-align: top;\n",
       "    }\n",
       "\n",
       "    .dataframe thead th {\n",
       "        text-align: right;\n",
       "    }\n",
       "</style>\n",
       "<table border=\"1\" class=\"dataframe\">\n",
       "  <thead>\n",
       "    <tr style=\"text-align: right;\">\n",
       "      <th></th>\n",
       "      <th>RANK</th>\n",
       "      <th>TITLE</th>\n",
       "      <th>ARTIST</th>\n",
       "      <th>YEAR</th>\n",
       "    </tr>\n",
       "  </thead>\n",
       "  <tbody>\n",
       "    <tr>\n",
       "      <th>1100</th>\n",
       "      <td>Tie</td>\n",
       "      <td>Let Me</td>\n",
       "      <td>Paul Revere &amp; the Raiders</td>\n",
       "      <td>1969</td>\n",
       "    </tr>\n",
       "  </tbody>\n",
       "</table>\n",
       "</div>"
      ],
      "text/plain": [
       "     RANK   TITLE                     ARTIST  YEAR\n",
       "1100  Tie  Let Me  Paul Revere & the Raiders  1969"
      ]
     },
     "execution_count": 32,
     "metadata": {},
     "output_type": "execute_result"
    }
   ],
   "source": [
    "# find any songs whose rank is \"Tie\"\n",
    "df[df.RANK=='Tie']"
   ]
  },
  {
   "cell_type": "code",
   "execution_count": 33,
   "metadata": {},
   "outputs": [
    {
     "data": {
      "text/html": [
       "<div>\n",
       "<style scoped>\n",
       "    .dataframe tbody tr th:only-of-type {\n",
       "        vertical-align: middle;\n",
       "    }\n",
       "\n",
       "    .dataframe tbody tr th {\n",
       "        vertical-align: top;\n",
       "    }\n",
       "\n",
       "    .dataframe thead th {\n",
       "        text-align: right;\n",
       "    }\n",
       "</style>\n",
       "<table border=\"1\" class=\"dataframe\">\n",
       "  <thead>\n",
       "    <tr style=\"text-align: right;\">\n",
       "      <th></th>\n",
       "      <th>RANK</th>\n",
       "      <th>TITLE</th>\n",
       "      <th>ARTIST</th>\n",
       "      <th>YEAR</th>\n",
       "    </tr>\n",
       "  </thead>\n",
       "  <tbody>\n",
       "    <tr>\n",
       "      <th>0</th>\n",
       "      <td>1</td>\n",
       "      <td>The Battle of New Orleans</td>\n",
       "      <td>Johnny Horton</td>\n",
       "      <td>1959</td>\n",
       "    </tr>\n",
       "    <tr>\n",
       "      <th>1</th>\n",
       "      <td>2</td>\n",
       "      <td>Mack the Knife</td>\n",
       "      <td>Bobby Darin</td>\n",
       "      <td>1959</td>\n",
       "    </tr>\n",
       "    <tr>\n",
       "      <th>2</th>\n",
       "      <td>3</td>\n",
       "      <td>Personality</td>\n",
       "      <td>Lloyd Price</td>\n",
       "      <td>1959</td>\n",
       "    </tr>\n",
       "    <tr>\n",
       "      <th>3</th>\n",
       "      <td>4</td>\n",
       "      <td>Venus</td>\n",
       "      <td>Frankie Avalon</td>\n",
       "      <td>1959</td>\n",
       "    </tr>\n",
       "    <tr>\n",
       "      <th>4</th>\n",
       "      <td>5</td>\n",
       "      <td>Lonely Boy</td>\n",
       "      <td>Paul Anka</td>\n",
       "      <td>1959</td>\n",
       "    </tr>\n",
       "    <tr>\n",
       "      <th>...</th>\n",
       "      <td>...</td>\n",
       "      <td>...</td>\n",
       "      <td>...</td>\n",
       "      <td>...</td>\n",
       "    </tr>\n",
       "    <tr>\n",
       "      <th>5996</th>\n",
       "      <td>96</td>\n",
       "      <td>More Than My Hometown</td>\n",
       "      <td>Morgan Wallen</td>\n",
       "      <td>2020</td>\n",
       "    </tr>\n",
       "    <tr>\n",
       "      <th>5997</th>\n",
       "      <td>97</td>\n",
       "      <td>Lovin' on You</td>\n",
       "      <td>Luke Combs</td>\n",
       "      <td>2020</td>\n",
       "    </tr>\n",
       "    <tr>\n",
       "      <th>5998</th>\n",
       "      <td>98</td>\n",
       "      <td>Said Sum</td>\n",
       "      <td>Moneybagg Yo</td>\n",
       "      <td>2020</td>\n",
       "    </tr>\n",
       "    <tr>\n",
       "      <th>5999</th>\n",
       "      <td>99</td>\n",
       "      <td>Slide</td>\n",
       "      <td>H.E.R. featuring YG</td>\n",
       "      <td>2020</td>\n",
       "    </tr>\n",
       "    <tr>\n",
       "      <th>6000</th>\n",
       "      <td>100</td>\n",
       "      <td>Walk Em Down</td>\n",
       "      <td>NLE Choppa featuring Roddy Ricch</td>\n",
       "      <td>2020</td>\n",
       "    </tr>\n",
       "  </tbody>\n",
       "</table>\n",
       "<p>6000 rows × 4 columns</p>\n",
       "</div>"
      ],
      "text/plain": [
       "     RANK                      TITLE                            ARTIST  YEAR\n",
       "0       1  The Battle of New Orleans                     Johnny Horton  1959\n",
       "1       2             Mack the Knife                       Bobby Darin  1959\n",
       "2       3                Personality                       Lloyd Price  1959\n",
       "3       4                      Venus                    Frankie Avalon  1959\n",
       "4       5                 Lonely Boy                         Paul Anka  1959\n",
       "...   ...                        ...                               ...   ...\n",
       "5996   96      More Than My Hometown                     Morgan Wallen  2020\n",
       "5997   97              Lovin' on You                        Luke Combs  2020\n",
       "5998   98                   Said Sum                      Moneybagg Yo  2020\n",
       "5999   99                      Slide               H.E.R. featuring YG  2020\n",
       "6000  100               Walk Em Down  NLE Choppa featuring Roddy Ricch  2020\n",
       "\n",
       "[6000 rows x 4 columns]"
      ]
     },
     "execution_count": 33,
     "metadata": {},
     "output_type": "execute_result"
    }
   ],
   "source": [
    "# drop that song and reindex\n",
    "df = df.drop(1100)\n",
    "df.reindex()"
   ]
  },
  {
   "cell_type": "code",
   "execution_count": 34,
   "metadata": {},
   "outputs": [
    {
     "name": "stdout",
     "output_type": "stream",
     "text": [
      "<class 'pandas.core.frame.DataFrame'>\n",
      "Int64Index: 6000 entries, 0 to 6000\n",
      "Data columns (total 4 columns):\n",
      " #   Column  Non-Null Count  Dtype \n",
      "---  ------  --------------  ----- \n",
      " 0   RANK    6000 non-null   int64 \n",
      " 1   TITLE   6000 non-null   object\n",
      " 2   ARTIST  6000 non-null   object\n",
      " 3   YEAR    6000 non-null   int64 \n",
      "dtypes: int64(2), object(2)\n",
      "memory usage: 234.4+ KB\n"
     ]
    }
   ],
   "source": [
    "df.RANK = df.RANK.astype(int)\n",
    "df.TITLE = df.TITLE.astype(str)\n",
    "df.info()\n"
   ]
  },
  {
   "cell_type": "code",
   "execution_count": 35,
   "metadata": {},
   "outputs": [],
   "source": [
    "df.to_csv('billboard-hot-100-yearly.csv')"
   ]
  },
  {
   "cell_type": "code",
   "execution_count": null,
   "metadata": {},
   "outputs": [],
   "source": []
  }
 ],
 "metadata": {
  "kernelspec": {
   "display_name": "Python 3",
   "language": "python",
   "name": "python3"
  },
  "language_info": {
   "codemirror_mode": {
    "name": "ipython",
    "version": 3
   },
   "file_extension": ".py",
   "mimetype": "text/x-python",
   "name": "python",
   "nbconvert_exporter": "python",
   "pygments_lexer": "ipython3",
   "version": "3.8.5"
  }
 },
 "nbformat": 4,
 "nbformat_minor": 4
}
